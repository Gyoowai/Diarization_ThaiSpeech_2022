{
 "cells": [
  {
   "cell_type": "code",
   "execution_count": 2,
   "metadata": {},
   "outputs": [],
   "source": [
    "import pandas as pd\n",
    "import itertools\n",
    "from utils.preprocessor import *"
   ]
  },
  {
   "cell_type": "code",
   "execution_count": 3,
   "metadata": {},
   "outputs": [
    {
     "name": "stderr",
     "output_type": "stream",
     "text": [
      "<ipython-input-3-8e24ee5da065>:3: DtypeWarning: Columns (7) have mixed types. Specify dtype option on import or set low_memory=False.\n",
      "  df_cv = pd.read_csv(path+\"validated.tsv\", delimiter=\"\\t\")\n",
      "<ipython-input-3-8e24ee5da065>:5: DtypeWarning: Columns (7,9) have mixed types. Specify dtype option on import or set low_memory=False.\n",
      "  df = pd.read_csv(path+file, delimiter=\"\\t\")\n"
     ]
    }
   ],
   "source": [
    "# Query CommonVoice data dictionary into DF\n",
    "path = \"cv-corpus-9.0-2022-04-27/th/\"\n",
    "df_cv = pd.read_csv(path+\"validated.tsv\", delimiter=\"\\t\")\n",
    "for file in [\"invalidated.tsv\", \"other.tsv\"]:\n",
    "    df = pd.read_csv(path+file, delimiter=\"\\t\")\n",
    "    df_cv = pd.concat([df_cv, df])"
   ]
  },
  {
   "cell_type": "code",
   "execution_count": 4,
   "metadata": {},
   "outputs": [],
   "source": [
    "# Classify client_id by age and gender into dict\n",
    "# classes[(age, gender)] = list of ids of the selected age, gender\n",
    "ages = [\"teens\", \"twenties\", \"thirties\", \"fourties\", \"fifties\"]\n",
    "genders = [\"male\", \"female\"]\n",
    "classes = {}\n",
    "keys = list(itertools.product(ages, genders))\n",
    "for age, gender in keys:\n",
    "    condition = (df_cv[\"age\"] == age) & (df_cv[\"gender\"] == gender)\n",
    "    dfx = df_cv[condition]\n",
    "    id_list = dfx.iloc[:, :2]\\\n",
    "        .groupby([\"client_id\"])\\\n",
    "        .count()\\\n",
    "        .sort_values(by=\"path\", ascending=False)\n",
    "    id_list = id_list[id_list[\"path\"] >= 150].index\n",
    "    classes[(age, gender)] = list(id_list[:5])"
   ]
  },
  {
   "cell_type": "code",
   "execution_count": 5,
   "metadata": {},
   "outputs": [
    {
     "data": {
      "text/plain": [
       "39"
      ]
     },
     "execution_count": 5,
     "metadata": {},
     "output_type": "execute_result"
    }
   ],
   "source": [
    "# paths[id] = list of audio file of that id\n",
    "mp3_path = \"cv-corpus-9.0-2022-04-27/th/clips/\"\n",
    "paths = {}\n",
    "for key in keys:\n",
    "    for id in classes[key]:\n",
    "        paths[id] = list(mp3_path + df_cv[df_cv[\"client_id\"] == id].path)\n",
    "len(paths.keys())"
   ]
  },
  {
   "cell_type": "code",
   "execution_count": null,
   "metadata": {},
   "outputs": [],
   "source": [
    "# \"4f0p125\", \"4f0p-250\"\n",
    "key = (\"fourties\", \"female\")\n",
    "for path in paths[classes[key][0]][:2000]:\n",
    "    octaves = 1/8\n",
    "    outputFile = f\"own/4f0p{int(octaves*1000)}_{path.split('/')[-1][:-3]}wav\"\n",
    "    preprocessor(\n",
    "        inputFile=path,\n",
    "        outputFile=outputFile,\n",
    "        octaves=octaves,\n",
    "    )\n",
    "    octaves = -2/8\n",
    "    outputFile = f\"own/4f0p{int(octaves*1000)}_{path.split('/')[-1][:-3]}wav\"\n",
    "    preprocessor(\n",
    "        inputFile=path,\n",
    "        outputFile=outputFile,\n",
    "        octaves=octaves,\n",
    "    )\n",
    "    # playmp3(path)\n",
    "    # playwav(outputFile)"
   ]
  },
  {
   "cell_type": "code",
   "execution_count": 10,
   "metadata": {},
   "outputs": [],
   "source": [
    "# \"4f1p125\"\n",
    "key = (\"fourties\", \"female\")\n",
    "octaves = 1/8\n",
    "for path in paths[classes[key][1]][:2000]:\n",
    "    outputFile = f\"own/4f1p{int(octaves*1000)}_{path.split('/')[-1][:-3]}wav\"\n",
    "    preprocessor(\n",
    "        inputFile=path,\n",
    "        outputFile=outputFile,\n",
    "        octaves=octaves,\n",
    "    )\n",
    "\n",
    "# \"5f0p187\", \"5f0p-250\"\n",
    "key = (\"fifties\", \"female\")\n",
    "for path in paths[classes[key][0]][:2000]:\n",
    "    octaves = 1.5/8\n",
    "    outputFile = f\"own/5f0p{int(octaves*1000)}_{path.split('/')[-1][:-3]}wav\"\n",
    "    preprocessor(\n",
    "        inputFile=path,\n",
    "        outputFile=outputFile,\n",
    "        octaves=octaves,\n",
    "    )\n",
    "    octaves = -2/8\n",
    "    outputFile = f\"own/5f0p{int(octaves*1000)}_{path.split('/')[-1][:-3]}wav\"\n",
    "    preprocessor(\n",
    "        inputFile=path,\n",
    "        outputFile=outputFile,\n",
    "        octaves=octaves,\n",
    "    )"
   ]
  },
  {
   "cell_type": "code",
   "execution_count": 17,
   "metadata": {},
   "outputs": [],
   "source": [
    "# amap-187\n",
    "own_path = \"own/\"\n",
    "id = \"amarat\"\n",
    "octaves = -1.5/8\n",
    "for file in os.listdir(own_path):\n",
    "    if file.startswith(id):\n",
    "        outputFile = f\"own/amap{int(octaves*1000)}_{file}\"\n",
    "        preprocessor(\n",
    "            inputFile=own_path+file,\n",
    "            outputFile=outputFile,\n",
    "            octaves=octaves,\n",
    "        )"
   ]
  }
 ],
 "metadata": {
  "kernelspec": {
   "display_name": "Python 3.8.10 ('base')",
   "language": "python",
   "name": "python3"
  },
  "language_info": {
   "codemirror_mode": {
    "name": "ipython",
    "version": 3
   },
   "file_extension": ".py",
   "mimetype": "text/x-python",
   "name": "python",
   "nbconvert_exporter": "python",
   "pygments_lexer": "ipython3",
   "version": "3.8.10"
  },
  "orig_nbformat": 4,
  "vscode": {
   "interpreter": {
    "hash": "a90aeebcf29d64a654773811cc170cb25061cb2498f10ac689db374c7bf325de"
   }
  }
 },
 "nbformat": 4,
 "nbformat_minor": 2
}
