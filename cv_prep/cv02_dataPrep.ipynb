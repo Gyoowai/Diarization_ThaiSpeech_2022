{
 "cells": [
  {
   "cell_type": "markdown",
   "metadata": {},
   "source": [
    "# CommonVoice Data Preparation"
   ]
  },
  {
   "cell_type": "markdown",
   "metadata": {},
   "source": [
    "## Pseudocode:"
   ]
  },
  {
   "cell_type": "markdown",
   "metadata": {},
   "source": [
    "- Require 4 directories: cv_wav, cv_rttm, cv_uem, wav_pool\n",
    "- Preparation\n",
    "    1. Prepare audio-preprocessing functions (using Pydub, ffmpeg)\n",
    "        - volume normalization\n",
    "        - silence trimming\n",
    "        - pitch shifting\n",
    "        - downmixing\n",
    "    2. Query cv data dictionary into dataframe\n",
    "    3. Define dict mapping between (age, gender) and client_id called \"classes\"\n",
    "        - ex. { (age=50, gender=m) : [ id0, id1], (age=40, gender=m) : [ id2, id3] }\n",
    "    4. Define dict mapping between client_id and audio paths called \"paths\"\n",
    "        - ex. { id0 : [ audio0, audio1], id1 : [ audio2, audio3] }\n",
    "    ```\n",
    "    ERD\n",
    "     ______________             ___________           _______ \n",
    "    |              |    1:m    |           |   1:m   |       |\n",
    "    | (age,gender) |  ------>  | client_id | ------> | audio |\n",
    "    |______________| <classes> |___________| <paths> |_______|\n",
    "    ```\n",
    "    5. Add your own audio files into classes and paths"
   ]
  },
  {
   "cell_type": "markdown",
   "metadata": {},
   "source": [
    "## Preparation"
   ]
  },
  {
   "cell_type": "code",
   "execution_count": 36,
   "metadata": {},
   "outputs": [],
   "source": [
    "!mkdir cv_wav cv_rttm cv_uem # keep results of generating files\n",
    "!mkdir wav_pool # transfer folder from mp3 to wav"
   ]
  },
  {
   "cell_type": "code",
   "execution_count": 21,
   "metadata": {},
   "outputs": [],
   "source": [
    "import pandas as pd\n",
    "import numpy as np\n",
    "import os\n",
    "from pydub import AudioSegment"
   ]
  },
  {
   "cell_type": "code",
   "execution_count": 22,
   "metadata": {},
   "outputs": [],
   "source": [
    "from utils.writeFile import *\n",
    "from utils.concatenator import *\n",
    "from utils.overlapper import *"
   ]
  },
  {
   "cell_type": "code",
   "execution_count": 23,
   "metadata": {},
   "outputs": [
    {
     "name": "stderr",
     "output_type": "stream",
     "text": [
      "<ipython-input-23-d304c7e9235f>:3: DtypeWarning: Columns (7) have mixed types. Specify dtype option on import or set low_memory=False.\n",
      "  df_cv = pd.read_csv(path+\"validated.tsv\", delimiter=\"\\t\")\n",
      "<ipython-input-23-d304c7e9235f>:5: DtypeWarning: Columns (7,9) have mixed types. Specify dtype option on import or set low_memory=False.\n",
      "  df = pd.read_csv(path+file, delimiter=\"\\t\")\n"
     ]
    },
    {
     "name": "stdout",
     "output_type": "stream",
     "text": [
      "<class 'pandas.core.frame.DataFrame'>\n",
      "Int64Index: 311794 entries, 0 to 178340\n",
      "Data columns (total 10 columns):\n",
      " #   Column      Non-Null Count   Dtype \n",
      "---  ------      --------------   ----- \n",
      " 0   client_id   311794 non-null  object\n",
      " 1   path        311794 non-null  object\n",
      " 2   sentence    311794 non-null  object\n",
      " 3   up_votes    311794 non-null  int64 \n",
      " 4   down_votes  311794 non-null  int64 \n",
      " 5   age         175191 non-null  object\n",
      " 6   gender      175213 non-null  object\n",
      " 7   accents     405 non-null     object\n",
      " 8   locale      311794 non-null  object\n",
      " 9   segment     48 non-null      object\n",
      "dtypes: int64(2), object(8)\n",
      "memory usage: 26.2+ MB\n"
     ]
    },
    {
     "data": {
      "text/html": [
       "<div>\n",
       "<style scoped>\n",
       "    .dataframe tbody tr th:only-of-type {\n",
       "        vertical-align: middle;\n",
       "    }\n",
       "\n",
       "    .dataframe tbody tr th {\n",
       "        vertical-align: top;\n",
       "    }\n",
       "\n",
       "    .dataframe thead th {\n",
       "        text-align: right;\n",
       "    }\n",
       "</style>\n",
       "<table border=\"1\" class=\"dataframe\">\n",
       "  <thead>\n",
       "    <tr style=\"text-align: right;\">\n",
       "      <th></th>\n",
       "      <th>client_id</th>\n",
       "      <th>path</th>\n",
       "      <th>sentence</th>\n",
       "      <th>up_votes</th>\n",
       "      <th>down_votes</th>\n",
       "      <th>age</th>\n",
       "      <th>gender</th>\n",
       "      <th>accents</th>\n",
       "      <th>locale</th>\n",
       "      <th>segment</th>\n",
       "    </tr>\n",
       "  </thead>\n",
       "  <tbody>\n",
       "    <tr>\n",
       "      <th>0</th>\n",
       "      <td>00086f5dc46f9038f13bbd829c4118fab3ac28688d5ee8...</td>\n",
       "      <td>common_voice_th_25695281.mp3</td>\n",
       "      <td>ใครเป็นผู้รับ</td>\n",
       "      <td>2</td>\n",
       "      <td>0</td>\n",
       "      <td>NaN</td>\n",
       "      <td>NaN</td>\n",
       "      <td>NaN</td>\n",
       "      <td>th</td>\n",
       "      <td>NaN</td>\n",
       "    </tr>\n",
       "    <tr>\n",
       "      <th>1</th>\n",
       "      <td>00245363f02e6f86a15de6793dc282d6f7095a8db6889b...</td>\n",
       "      <td>common_voice_th_31277118.mp3</td>\n",
       "      <td>รู้ได้ไงว่าเขาไม่หนุก</td>\n",
       "      <td>2</td>\n",
       "      <td>0</td>\n",
       "      <td>NaN</td>\n",
       "      <td>NaN</td>\n",
       "      <td>NaN</td>\n",
       "      <td>th</td>\n",
       "      <td>NaN</td>\n",
       "    </tr>\n",
       "    <tr>\n",
       "      <th>2</th>\n",
       "      <td>005237750a4d82bf743fe1e6eb0e4a579f0eb6a2455aaf...</td>\n",
       "      <td>common_voice_th_25722081.mp3</td>\n",
       "      <td>การที่จะทำเค้กแต่งงานชั้นเลิศคุณจะต้องใช้น้ำตา...</td>\n",
       "      <td>3</td>\n",
       "      <td>0</td>\n",
       "      <td>NaN</td>\n",
       "      <td>NaN</td>\n",
       "      <td>NaN</td>\n",
       "      <td>th</td>\n",
       "      <td>NaN</td>\n",
       "    </tr>\n",
       "  </tbody>\n",
       "</table>\n",
       "</div>"
      ],
      "text/plain": [
       "                                           client_id  \\\n",
       "0  00086f5dc46f9038f13bbd829c4118fab3ac28688d5ee8...   \n",
       "1  00245363f02e6f86a15de6793dc282d6f7095a8db6889b...   \n",
       "2  005237750a4d82bf743fe1e6eb0e4a579f0eb6a2455aaf...   \n",
       "\n",
       "                           path  \\\n",
       "0  common_voice_th_25695281.mp3   \n",
       "1  common_voice_th_31277118.mp3   \n",
       "2  common_voice_th_25722081.mp3   \n",
       "\n",
       "                                            sentence  up_votes  down_votes  \\\n",
       "0                                      ใครเป็นผู้รับ         2           0   \n",
       "1                              รู้ได้ไงว่าเขาไม่หนุก         2           0   \n",
       "2  การที่จะทำเค้กแต่งงานชั้นเลิศคุณจะต้องใช้น้ำตา...         3           0   \n",
       "\n",
       "   age gender accents locale segment  \n",
       "0  NaN    NaN     NaN     th     NaN  \n",
       "1  NaN    NaN     NaN     th     NaN  \n",
       "2  NaN    NaN     NaN     th     NaN  "
      ]
     },
     "execution_count": 23,
     "metadata": {},
     "output_type": "execute_result"
    }
   ],
   "source": [
    "# Query CommonVoice data dictionary into DF\n",
    "path = \"cv-corpus-9.0-2022-04-27/th/\"\n",
    "df_cv = pd.read_csv(path+\"validated.tsv\", delimiter=\"\\t\")\n",
    "for file in [\"invalidated.tsv\", \"other.tsv\"]:\n",
    "    df = pd.read_csv(path+file, delimiter=\"\\t\")\n",
    "    df_cv = pd.concat([df_cv,df])\n",
    "df_cv.info()\n",
    "df_cv.head(3)"
   ]
  },
  {
   "cell_type": "code",
   "execution_count": 24,
   "metadata": {},
   "outputs": [],
   "source": [
    "# Classify client_id by age and gender into dict\n",
    "# classes[(age, gender)] = list of ids of the selected age, gender\n",
    "ages = [\"teens\", \"twenties\", \"thirties\", \"fourties\", \"fifties\"]\n",
    "genders = [\"male\", \"female\"]\n",
    "classes = {}\n",
    "import itertools\n",
    "keys = list(itertools.product(ages,genders))\n",
    "for age, gender in keys:\n",
    "    condition = (df_cv[\"age\"] == age) & (df_cv[\"gender\"] == gender)\n",
    "    dfx = df_cv[condition]\n",
    "    id_list = dfx.iloc[:, :2]\\\n",
    "        .groupby([\"client_id\"])\\\n",
    "        .count()\\\n",
    "        .sort_values(by=\"path\", ascending=False)\n",
    "    id_list = id_list[id_list[\"path\"]>=150].index\n",
    "    classes[(age,gender)] = list(id_list[:5])"
   ]
  },
  {
   "cell_type": "code",
   "execution_count": 25,
   "metadata": {},
   "outputs": [
    {
     "data": {
      "text/plain": [
       "39"
      ]
     },
     "execution_count": 25,
     "metadata": {},
     "output_type": "execute_result"
    }
   ],
   "source": [
    "# paths[id] = list of audio file of that id\n",
    "mp3_path = \"cv-corpus-9.0-2022-04-27/th/clips/\"\n",
    "paths = {}\n",
    "for key in keys:\n",
    "    for id in classes[key]:\n",
    "        paths[id] = list(mp3_path + df_cv[df_cv[\"client_id\"] == id].path)\n",
    "len(paths.keys())"
   ]
  },
  {
   "cell_type": "code",
   "execution_count": 26,
   "metadata": {},
   "outputs": [],
   "source": [
    "# Add your own video clips\n",
    "# classes\n",
    "own_id = [\"chuan\", \"prayut\", \"sutin\", \"visanu\",\n",
    "          \"4f0p125\", \"4f0p-250\", \"4f1p125\",\n",
    "          \"amarat\", \"amap-187\", \"5f0p187\", \"5f0p-250\", ]\n",
    "classes[(\"fifties\", \"male\")].extend(own_id[:4])\n",
    "classes[(\"fourties\", \"female\")].extend(own_id[4:7])\n",
    "classes[(\"fifties\", \"female\")].extend(own_id[7:])\n",
    "\n",
    "# paths\n",
    "own_path = \"own/\"\n",
    "for enum, id in enumerate(own_id):\n",
    "    paths[id] = []\n",
    "    for file in os.listdir(own_path):\n",
    "        if file.startswith(id):\n",
    "            paths[id].append(own_path+file)"
   ]
  },
  {
   "cell_type": "code",
   "execution_count": 27,
   "metadata": {},
   "outputs": [],
   "source": [
    "# refill used up paths\n",
    "def refill_paths(id):\n",
    "    print(\". . .filling\", id[:6])\n",
    "    if id in own_id:\n",
    "        # from own clips\n",
    "        path = own_path\n",
    "        for file in os.listdir(own_path):\n",
    "            if file.startswith(id):\n",
    "                paths[id].append(own_path+file)\n",
    "    else: \n",
    "        # from common voice\n",
    "        path = mp3_path\n",
    "        paths[id] = list(path + df_cv[df_cv[\"client_id\"] == id].path)"
   ]
  },
  {
   "cell_type": "markdown",
   "metadata": {},
   "source": [
    "## Generating"
   ]
  },
  {
   "cell_type": "code",
   "execution_count": 28,
   "metadata": {},
   "outputs": [],
   "source": [
    "metadata = []"
   ]
  },
  {
   "cell_type": "code",
   "execution_count": 29,
   "metadata": {},
   "outputs": [
    {
     "data": {
      "text/plain": [
       "[[6, 4, 7, 3], [5, 8, 7, 9], [3, 1, 0, 6], [6, 8, 0, 6], [4, 6, 7, 3]]"
      ]
     },
     "execution_count": 29,
     "metadata": {},
     "output_type": "execute_result"
    }
   ],
   "source": [
    "# Generate Indexes\n",
    "# 150 files, 4 id per file = 600 ids\n",
    "# 10 class(by age and gender) --> 60 ids per class\n",
    "arr = []\n",
    "num_class = len(keys)\n",
    "num_files = 150\n",
    "amount_per_class = num_files*4//num_class\n",
    "for i in range(num_class):\n",
    "    arr = arr + [i]*(amount_per_class)\n",
    "    # generate list of [0]*60 + [1]*60 +...+ [9]*60\n",
    "indices = []\n",
    "for i in range(num_files):\n",
    "    turn = []\n",
    "    for j in range(4):\n",
    "        id = np.random.choice(len(arr))\n",
    "        turn.append(arr.pop(id))\n",
    "    indices.append(turn)\n",
    "indices[:5]"
   ]
  },
  {
   "cell_type": "code",
   "execution_count": null,
   "metadata": {},
   "outputs": [],
   "source": [
    "for enum in range(0,90):\n",
    "    index = indices.pop(0)\n",
    "    id_list = [classes[keys[i]][np.random.choice(len(classes[keys[i]]))] for i in index]\n",
    "    while len(id_list)!=len(set(id_list)):\n",
    "        id_list = [classes[keys[i]][np.random.choice(len(classes[keys[i]]))] for i in index]\n",
    "    ag = [keys[i] for i in index]\n",
    "    audioName = f\"cv02_ovl_{enum}\"\n",
    "    print(\". . .generating\", audioName)\n",
    "    rttm, duration, metadata = overlapper(\n",
    "        client_id=id_list,\n",
    "        speaker_id=[id[:6] for id in id_list],\n",
    "        paths=paths,\n",
    "        outputName=audioName,\n",
    "        refill_callback = refill_paths, \n",
    "        metadata = metadata, \n",
    "        age_gender_keys = [keys[i] for i in index]\n",
    "    )\n",
    "    writeFile(content=rttm, outputName=f\"cv_rttm/{audioName}.rttm\")\n",
    "    uem = f\"{audioName} 1 0 {duration}\"\n",
    "    writeFile(content=uem, outputName=f\"cv_uem/{audioName}.uem\")"
   ]
  },
  {
   "cell_type": "code",
   "execution_count": null,
   "metadata": {},
   "outputs": [],
   "source": [
    "for enum in range(0,60):\n",
    "    index = indices.pop(0)\n",
    "    id_list = [classes[keys[i]][np.random.choice(len(classes[keys[i]]))] for i in index]\n",
    "    # check if id_list have duplicate client_id\n",
    "    while len(id_list)!=len(set(id_list)):\n",
    "        id_list = [classes[keys[i]][np.random.choice(len(classes[keys[i]]))] for i in index]\n",
    "        assert id_list==[] # prevent infinite loop\n",
    "    audioName = f\"cv02_cct_{enum}\"\n",
    "    print(\". . .generating\", audioName)\n",
    "    rttm, duration, metadata = concatenator(\n",
    "        client_id = id_list,\n",
    "        speaker_id = [id[:6] for id in id_list],\n",
    "        paths = paths,\n",
    "        outputName = audioName,\n",
    "        refill_callback = refill_paths,\n",
    "        metadata = metadata, \n",
    "        age_gender_keys = [keys[i] for i in index]\n",
    "    )\n",
    "    writeFile(content=rttm, outputName=f\"cv_rttm/{audioName}.rttm\")\n",
    "    uem = f\"{audioName} 1 0 {duration}\"\n",
    "    writeFile(content=uem, outputName=f\"cv_uem/{audioName}.uem\")"
   ]
  },
  {
   "cell_type": "code",
   "execution_count": 133,
   "metadata": {},
   "outputs": [],
   "source": [
    "# save metadata as csv\n",
    "import csv\n",
    "header = [\"name\", \"client_id\", \"age\", \"gender\", \"audio\", \"duration\"]\n",
    "with open('cv02_metadata.csv', 'w', encoding='UTF8', newline='') as f:\n",
    "    writer = csv.writer(f)\n",
    "    writer.writerow(header)\n",
    "    writer.writerows(metadata)"
   ]
  },
  {
   "cell_type": "markdown",
   "metadata": {},
   "source": [
    "## Metadata"
   ]
  },
  {
   "cell_type": "code",
   "execution_count": 16,
   "metadata": {},
   "outputs": [
    {
     "name": "stdout",
     "output_type": "stream",
     "text": [
      "                 duration_hour\n",
      "age      gender               \n",
      "fifties  female       6.559556\n",
      "         male         7.099241\n",
      "fourties female       5.596265\n",
      "         male         4.689603\n",
      "teens    female       5.717852\n",
      "         male         5.115534\n",
      "thirties female       4.655827\n",
      "         male         5.244366\n",
      "twenties female       6.172873\n",
      "         male         4.703438\n"
     ]
    },
    {
     "data": {
      "text/html": [
       "<div>\n",
       "<style scoped>\n",
       "    .dataframe tbody tr th:only-of-type {\n",
       "        vertical-align: middle;\n",
       "    }\n",
       "\n",
       "    .dataframe tbody tr th {\n",
       "        vertical-align: top;\n",
       "    }\n",
       "\n",
       "    .dataframe thead th {\n",
       "        text-align: right;\n",
       "    }\n",
       "</style>\n",
       "<table border=\"1\" class=\"dataframe\">\n",
       "  <thead>\n",
       "    <tr style=\"text-align: right;\">\n",
       "      <th></th>\n",
       "      <th>name</th>\n",
       "      <th>client_id</th>\n",
       "      <th>age</th>\n",
       "      <th>gender</th>\n",
       "      <th>audio</th>\n",
       "      <th>duration</th>\n",
       "    </tr>\n",
       "  </thead>\n",
       "  <tbody>\n",
       "    <tr>\n",
       "      <th>35980</th>\n",
       "      <td>cv02_ovl_76</td>\n",
       "      <td>0bf48b2997faa1392615d12db5bf514ee0ea9fcceb3553...</td>\n",
       "      <td>fourties</td>\n",
       "      <td>male</td>\n",
       "      <td>common_voice_th_26409240</td>\n",
       "      <td>0.756</td>\n",
       "    </tr>\n",
       "    <tr>\n",
       "      <th>33483</th>\n",
       "      <td>cv02_ovl_71</td>\n",
       "      <td>dc44dca3259e3633773c05ba48b9a1556e6cecca7f30ae...</td>\n",
       "      <td>teens</td>\n",
       "      <td>male</td>\n",
       "      <td>common_voice_th_28970393</td>\n",
       "      <td>4.688</td>\n",
       "    </tr>\n",
       "    <tr>\n",
       "      <th>28941</th>\n",
       "      <td>cv02_ovl_61</td>\n",
       "      <td>2d7fbf12437f9aa31fe80c56d97b268851db90e2b75be1...</td>\n",
       "      <td>teens</td>\n",
       "      <td>male</td>\n",
       "      <td>common_voice_th_29165038</td>\n",
       "      <td>2.760</td>\n",
       "    </tr>\n",
       "  </tbody>\n",
       "</table>\n",
       "</div>"
      ],
      "text/plain": [
       "              name                                          client_id  \\\n",
       "35980  cv02_ovl_76  0bf48b2997faa1392615d12db5bf514ee0ea9fcceb3553...   \n",
       "33483  cv02_ovl_71  dc44dca3259e3633773c05ba48b9a1556e6cecca7f30ae...   \n",
       "28941  cv02_ovl_61  2d7fbf12437f9aa31fe80c56d97b268851db90e2b75be1...   \n",
       "\n",
       "            age gender                     audio  duration  \n",
       "35980  fourties   male  common_voice_th_26409240     0.756  \n",
       "33483     teens   male  common_voice_th_28970393     4.688  \n",
       "28941     teens   male  common_voice_th_29165038     2.760  "
      ]
     },
     "execution_count": 16,
     "metadata": {},
     "output_type": "execute_result"
    }
   ],
   "source": [
    "# using metadata\n",
    "import pandas as pd\n",
    "df = pd.read_csv(\"cv02_metadata.csv\")\n",
    "print(df.groupby([\"age\",\"gender\"])[\"duration\"].agg(duration_hour='sum')/60/60)\n",
    "df.sample(3)"
   ]
  }
 ],
 "metadata": {
  "kernelspec": {
   "display_name": "Python 3.8.10 ('base')",
   "language": "python",
   "name": "python3"
  },
  "language_info": {
   "codemirror_mode": {
    "name": "ipython",
    "version": 3
   },
   "file_extension": ".py",
   "mimetype": "text/x-python",
   "name": "python",
   "nbconvert_exporter": "python",
   "pygments_lexer": "ipython3",
   "version": "3.8.10"
  },
  "orig_nbformat": 4,
  "vscode": {
   "interpreter": {
    "hash": "a90aeebcf29d64a654773811cc170cb25061cb2498f10ac689db374c7bf325de"
   }
  }
 },
 "nbformat": 4,
 "nbformat_minor": 2
}
