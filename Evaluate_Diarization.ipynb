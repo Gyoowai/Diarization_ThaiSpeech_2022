{
  "cells": [
    {
      "cell_type": "markdown",
      "metadata": {
        "id": "az9OH3I1Qx4e"
      },
      "source": [
        "# Installation \n",
        "\n",
        "Libraries used:\n",
        "\n",
        "  *   [pyannote](https://github.com/pyannote/pyannote-audio) (require restarting kernel after finish installing)\n",
        "  *   [speechbrain](https://github.com/speechbrain/speechbrain) (for Embedding)"
      ]
    },
    {
      "cell_type": "code",
      "execution_count": null,
      "metadata": {
        "id": "PFEz6lE2Hopx"
      },
      "outputs": [],
      "source": [
        "# install pyannote(currently 2.0)\n",
        "!pip install -q pyannote.audio\n",
        "# !pip install -q https://github.com/pyannote/pyannote-audio/archive/develop.zip \n",
        "\n",
        "# for speechbrain\n",
        "# !pip install -q speechbrain"
      ]
    },
    {
      "cell_type": "code",
      "execution_count": null,
      "metadata": {
        "id": "0j3kwAepHgQS"
      },
      "outputs": [],
      "source": [
        "# install pyannote 1.0 (commits before big change of 2.0)\n",
        "# !pip install https://github.com/pyannote/pyannote-audio/archive/871272c7c9c2ffacc4570cea9e487658ed145e70.zip\n",
        "\n",
        "# for speechbrain\n",
        "# !pip install -q speechbrain"
      ]
    },
    {
      "cell_type": "code",
      "execution_count": null,
      "metadata": {
        "id": "Y6006UxXHgTp"
      },
      "outputs": [],
      "source": [
        "# # install pyannote 2.0 on Colab without dependencies\n",
        "# # for speechbrain\n",
        "# !pip install -qq torch==1.11.0 torchvision==0.12.0 torchaudio==0.11.0 torchtext==0.12.0\n",
        "# !pip install -qq speechbrain==0.5.12\n",
        "\n",
        "# # pyannote.audio\n",
        "# !pip install -qq pyannote.audio\n",
        "\n",
        "# # for visualization purposes\n",
        "# !pip install -qq moviepy ipython==7.34.0"
      ]
    },
    {
      "cell_type": "markdown",
      "metadata": {
        "id": "yZ0WaRLIhIUr"
      },
      "source": [
        "# Loading Model"
      ]
    },
    {
      "cell_type": "code",
      "execution_count": null,
      "metadata": {
        "id": "wYYiE0Yn_YMd"
      },
      "outputs": [],
      "source": [
        "# # Pretrained pipeline\n",
        "# from pyannote.audio import Pipeline\n",
        "# pipeline = Pipeline.from_pretrained(\"pyannote/speaker-diarization\")"
      ]
    },
    {
      "cell_type": "markdown",
      "metadata": {
        "id": "tyI3TdaPg4dR"
      },
      "source": [
        "## From checkpoints"
      ]
    },
    {
      "cell_type": "code",
      "execution_count": null,
      "metadata": {
        "id": "WehFGOuY_weA"
      },
      "outputs": [],
      "source": [
        "# !unzip checkpoints.zip"
      ]
    },
    {
      "cell_type": "code",
      "execution_count": null,
      "metadata": {
        "colab": {
          "base_uri": "https://localhost:8080/"
        },
        "id": "bU_KeUFbBnge",
        "outputId": "64ebc528-2fbf-4c0d-c2ad-b3d8e4aec776"
      },
      "outputs": [
        {
          "name": "stderr",
          "output_type": "stream",
          "text": [
            "/usr/local/lib/python3.7/dist-packages/resampy/interpn.py:114: NumbaWarning: \u001b[1m\u001b[1mThe TBB threading layer requires TBB version 2019.5 or later i.e., TBB_INTERFACE_VERSION >= 11005. Found TBB_INTERFACE_VERSION = 9107. The TBB threading layer is disabled.\u001b[0m\u001b[0m\n",
            "  _resample_loop_p(x, t_out, interp_win, interp_delta, num_table, scale, y)\n"
          ]
        }
      ],
      "source": [
        "from pyannote.audio import Model\n",
        "from copy import deepcopy\n",
        "\n",
        "pretrained = Model.from_pretrained(\"pyannote/segmentation\")\n",
        "finetuned = deepcopy(pretrained)\n",
        "finetuned = finetuned.load_from_checkpoint(\"checkpoints/epoch=19-step=6780.ckpt\")"
      ]
    },
    {
      "cell_type": "markdown",
      "metadata": {
        "id": "ndJgcXnxBnT0"
      },
      "source": [
        "## From h5"
      ]
    },
    {
      "cell_type": "code",
      "execution_count": null,
      "metadata": {
        "id": "tDoTPcF4iKhF"
      },
      "outputs": [],
      "source": [
        "import torch\n",
        "# pipeline = torch.load(\"pipeline.h5\")\n",
        "finetuned = torch.load(\"seg.h5\")"
      ]
    },
    {
      "cell_type": "markdown",
      "metadata": {
        "id": "BD8-_cn3hQ1G"
      },
      "source": [
        "# Add finetuned segmentation model to the speaker diarization pipeline\n",
        "- [pretrained config here](https://huggingface.co/pyannote/speaker-diarization/blob/main/config.yaml)\n",
        "- hparams: [segmentation](https://github.com/pyannote/pyannote-audio/blob/develop/pyannote/audio/pipelines/segmentation.py#L50) [clustering](https://github.com/pyannote/pyannote-audio/blob/develop/pyannote/audio/pipelines/clustering.py) [diarization](https://github.com/pyannote/pyannote-audio/blob/develop/pyannote/audio/pipelines/speaker_diarization.py#L56)"
      ]
    },
    {
      "cell_type": "markdown",
      "metadata": {
        "id": "4R-JDooa_LXx"
      },
      "source": [
        "### pyannote 1.0"
      ]
    },
    {
      "cell_type": "code",
      "execution_count": null,
      "metadata": {
        "colab": {
          "base_uri": "https://localhost:8080/"
        },
        "id": "2BpjZbidDfQf",
        "outputId": "49683eed-2092-4098-b55b-1d078059c61f"
      },
      "outputs": [
        {
          "data": {
            "text/plain": [
              "<pyannote.audio.pipelines.speaker_diarization.SpeakerDiarization at 0x7f5d5b531c50>"
            ]
          },
          "execution_count": 54,
          "metadata": {},
          "output_type": "execute_result"
        }
      ],
      "source": [
        "# Add finetuned segmentation model to the speaker diarization pipeline\n",
        "from pyannote.audio.pipelines import SpeakerDiarization\n",
        "pipeline = SpeakerDiarization(\n",
        "    segmentation=finetuned,\n",
        "    # embedding=\"speechbrain/spkrec-ecapa-voxceleb\",\n",
        "    # embedding=\"pyannote/embedding\",\n",
        "    )\n",
        "initial_params = {\n",
        "    # onset/offset activation thresholds\n",
        "    \"onset\": 0.810,\n",
        "    \"offset\": 0.481,\n",
        "\n",
        "    # remove speech regions shorter than that many seconds\n",
        "    \"min_duration_on\": 0.055,\n",
        "    # \"min_duration_on\": 0.255,\n",
        "\n",
        "    # fill non-speech regions shorter than that many seconds\n",
        "    \"min_duration_off\": 0.098,\n",
        "\n",
        "    \"min_activity\": 6.073,\n",
        "    \"stitch_threshold\": 0.040,\n",
        "    \n",
        "    # \"clustering\": {\"method\": \"average\", \"threshold\": 0.595},}\n",
        "    \"clustering\": {\"method\": \"average\", \"threshold\": 0.395},}\n",
        "pipeline.instantiate(initial_params)"
      ]
    },
    {
      "cell_type": "markdown",
      "metadata": {
        "id": "vZ4rl-T0_Pwm"
      },
      "source": [
        "### pyannote 2.0"
      ]
    },
    {
      "cell_type": "code",
      "execution_count": null,
      "metadata": {
        "id": "Hfb8dKQj_QAk"
      },
      "outputs": [],
      "source": [
        "# Add finetuned segmentation model to the speaker diarization pipeline\n",
        "from pyannote.audio.pipelines import SpeakerDiarization\n",
        "pipeline = SpeakerDiarization(\n",
        "    segmentation=finetuned,\n",
        "    embedding=\"speechbrain/spkrec-ecapa-voxceleb\",\n",
        "    )\n",
        "initial_params = {\n",
        "                \"segmentation_onset\": 0.58,\n",
        "                \"clustering\": {\n",
        "                    \"single_cluster_detection\": {\n",
        "                        \"quantile\": 0.05,\n",
        "                        \"threshold\": 0.15,\n",
        "                    },\n",
        "                    \"covariance_type\": \"diag\",\n",
        "                    \"threshold\": 0.35,\n",
        "                },\n",
        "}\n",
        "pipeline.instantiate(initial_params)"
      ]
    },
    {
      "cell_type": "markdown",
      "metadata": {
        "id": "QVctyHQXKm0h"
      },
      "source": [
        "# Preparation for Evaluation"
      ]
    },
    {
      "cell_type": "code",
      "execution_count": null,
      "metadata": {
        "id": "Dg2mBEJQKiHg"
      },
      "outputs": [],
      "source": [
        "import os\n",
        "from pyannote.core import notebook, Segment\n",
        "from pyannote.database.util import load_rttm\n",
        "import pandas as pd\n",
        "pd.options.display.float_format = \"{:,.2f}\".format"
      ]
    },
    {
      "cell_type": "code",
      "execution_count": null,
      "metadata": {
        "id": "400_0NI2K8y0"
      },
      "outputs": [],
      "source": [
        "from pyannote.metrics.diarization import DiarizationErrorRate, DiarizationPurity, DiarizationCoverage\n",
        "\n",
        "# Evaluation metrics\n",
        "def eval(metrics, groundtruth, result):\n",
        "  for metric in metrics:\n",
        "    metric(groundtruth,result)\n",
        "\n",
        "  df = pd.concat([metric.report() for metric in metrics], axis=1)\n",
        "  df = df.loc[:,[\n",
        "    ('diarization error rate', '%'),\n",
        "    ('false alarm',\"%\"),\n",
        "    ('missed detection','%'),\n",
        "    ('confusion', '%'),\n",
        "    ('purity', '%'),\n",
        "    ('coverage', '%'),\n",
        "    ]]\n",
        "  df.index.name = None\n",
        "  df.columns = ['diarization error rate',\n",
        "    'false alarm',\n",
        "    'missed detection',\n",
        "    'confusion',\n",
        "    'purity',\n",
        "    'coverage']\n",
        "  return df"
      ]
    },
    {
      "cell_type": "code",
      "execution_count": null,
      "metadata": {
        "id": "Q95h6xRuK-Z3"
      },
      "outputs": [],
      "source": [
        "import matplotlib.pyplot as plt\n",
        "\n",
        "# Visualization\n",
        "def repr_annotation(annotation):\n",
        "    figsize = plt.rcParams[\"figure.figsize\"]\n",
        "    plt.rcParams[\"figure.figsize\"] = (notebook.width, 2)\n",
        "    fig, ax = plt.subplots()\n",
        "    notebook.plot_annotation(annotation, ax=ax)\n",
        "    # plt.close(fig)\n",
        "    # plt.rcParams[\"figure.figsize\"] = figsize"
      ]
    },
    {
      "cell_type": "code",
      "execution_count": null,
      "metadata": {
        "id": "-6H3aTjHMQ71"
      },
      "outputs": [],
      "source": [
        "# Save Result as RTTM\n",
        "def save_rttm(filename, annotation):\n",
        "  with open(filename, 'w') as file:\n",
        "    annotation.write_rttm(file)"
      ]
    },
    {
      "cell_type": "markdown",
      "metadata": {
        "id": "H4YeS7NntiyQ"
      },
      "source": [
        "# Evaluation\n",
        "\n",
        "[Reference here](https://pyannote.github.io/pyannote-metrics/reference.html)"
      ]
    },
    {
      "cell_type": "markdown",
      "metadata": {
        "id": "EBi5yi7ftrEj"
      },
      "source": [
        "## With particular test case"
      ]
    },
    {
      "cell_type": "code",
      "execution_count": null,
      "metadata": {
        "colab": {
          "base_uri": "https://localhost:8080/",
          "height": 35
        },
        "id": "zjrGfC_eLPpQ",
        "outputId": "69e81018-954e-4e13-f579-bb99026e48c3"
      },
      "outputs": [
        {
          "data": {
            "application/vnd.google.colaboratory.intrinsic+json": {
              "type": "string"
            },
            "text/plain": [
              "'Parliament_1m'"
            ]
          },
          "execution_count": 46,
          "metadata": {},
          "output_type": "execute_result"
        }
      ],
      "source": [
        "test_path = \"_path_to_wav_\"\n",
        "rttm_path = \"_path_to_rttm_\""
      ]
    },
    {
      "cell_type": "code",
      "execution_count": null,
      "metadata": {
        "id": "2r2Zew0d8L5y"
      },
      "outputs": [],
      "source": [
        "# Without rttm as groundtruth\n",
        "result = pipeline(test_path)\n",
        "notebook.reset()\n",
        "result"
      ]
    },
    {
      "cell_type": "code",
      "execution_count": null,
      "metadata": {
        "colab": {
          "base_uri": "https://localhost:8080/",
          "height": 279
        },
        "id": "EHbRn68Vyj25",
        "outputId": "38eeae24-833c-4842-8613-d5ee22729f3e"
      },
      "outputs": [
        {
          "data": {
            "image/png": "[encoded data removed]",
            "text/plain": [
              "<Figure size 1440x144 with 1 Axes>"
            ]
          },
          "metadata": {
            "needs_background": "light"
          },
          "output_type": "display_data"
        },
        {
          "data": {
            "image/png": "[encoded data removed]",
            "text/plain": [
              "<Figure size 1440x144 with 1 Axes>"
            ]
          },
          "metadata": {
            "needs_background": "light"
          },
          "output_type": "display_data"
        }
      ],
      "source": [
        "# With rttm as groundtruth\n",
        "result = pipeline(test_path)\n",
        "loaded_groundtruth = load_rttm(rttm_path)\n",
        "_, groundtruth = loaded_groundtruth.popitem()\n",
        "\n",
        "# Mapping speaker\n",
        "mapping = DiarizationErrorRate().optimal_mapping(groundtruth, result)\n",
        "result = result.rename_labels(mapping=mapping)\n",
        "\n",
        "notebook.reset()\n",
        "# notebook.crop = Segment(60, 100)\n",
        "repr_annotation(groundtruth)\n",
        "repr_annotation(result)"
      ]
    },
    {
      "cell_type": "code",
      "execution_count": null,
      "metadata": {
        "colab": {
          "base_uri": "https://localhost:8080/",
          "height": 112
        },
        "id": "v4-fJO_qR68_",
        "outputId": "81edc322-61c4-42a2-ab61-a7e2623f8211"
      },
      "outputs": [
        {
          "data": {
            "text/html": [
              "\n",
              "  <div id=\"df-863a811f-e3d1-4770-bb86-39712621bf6d\">\n",
              "    <div class=\"colab-df-container\">\n",
              "      <div>\n",
              "<style scoped>\n",
              "    .dataframe tbody tr th:only-of-type {\n",
              "        vertical-align: middle;\n",
              "    }\n",
              "\n",
              "    .dataframe tbody tr th {\n",
              "        vertical-align: top;\n",
              "    }\n",
              "\n",
              "    .dataframe thead th {\n",
              "        text-align: right;\n",
              "    }\n",
              "</style>\n",
              "<table border=\"1\" class=\"dataframe\">\n",
              "  <thead>\n",
              "    <tr style=\"text-align: right;\">\n",
              "      <th></th>\n",
              "      <th>diarization error rate</th>\n",
              "      <th>false alarm</th>\n",
              "      <th>missed detection</th>\n",
              "      <th>confusion</th>\n",
              "      <th>purity</th>\n",
              "      <th>coverage</th>\n",
              "    </tr>\n",
              "  </thead>\n",
              "  <tbody>\n",
              "    <tr>\n",
              "      <th>Parliament_10m</th>\n",
              "      <td>8.91</td>\n",
              "      <td>1.48</td>\n",
              "      <td>6.59</td>\n",
              "      <td>0.84</td>\n",
              "      <td>91.78</td>\n",
              "      <td>91.78</td>\n",
              "    </tr>\n",
              "    <tr>\n",
              "      <th>TOTAL</th>\n",
              "      <td>8.91</td>\n",
              "      <td>1.48</td>\n",
              "      <td>6.59</td>\n",
              "      <td>0.84</td>\n",
              "      <td>91.78</td>\n",
              "      <td>91.78</td>\n",
              "    </tr>\n",
              "  </tbody>\n",
              "</table>\n",
              "</div>\n",
              "      <button class=\"colab-df-convert\" onclick=\"convertToInteractive('df-863a811f-e3d1-4770-bb86-39712621bf6d')\"\n",
              "              title=\"Convert this dataframe to an interactive table.\"\n",
              "              style=\"display:none;\">\n",
              "        \n",
              "  <svg xmlns=\"http://www.w3.org/2000/svg\" height=\"24px\"viewBox=\"0 0 24 24\"\n",
              "       width=\"24px\">\n",
              "    <path d=\"M0 0h24v24H0V0z\" fill=\"none\"/>\n",
              "    <path d=\"M18.56 5.44l.94 2.06.94-2.06 2.06-.94-2.06-.94-.94-2.06-.94 2.06-2.06.94zm-11 1L8.5 8.5l.94-2.06 2.06-.94-2.06-.94L8.5 2.5l-.94 2.06-2.06.94zm10 10l.94 2.06.94-2.06 2.06-.94-2.06-.94-.94-2.06-.94 2.06-2.06.94z\"/><path d=\"M17.41 7.96l-1.37-1.37c-.4-.4-.92-.59-1.43-.59-.52 0-1.04.2-1.43.59L10.3 9.45l-7.72 7.72c-.78.78-.78 2.05 0 2.83L4 21.41c.39.39.9.59 1.41.59.51 0 1.02-.2 1.41-.59l7.78-7.78 2.81-2.81c.8-.78.8-2.07 0-2.86zM5.41 20L4 18.59l7.72-7.72 1.47 1.35L5.41 20z\"/>\n",
              "  </svg>\n",
              "      </button>\n",
              "      \n",
              "  <style>\n",
              "    .colab-df-container {\n",
              "      display:flex;\n",
              "      flex-wrap:wrap;\n",
              "      gap: 12px;\n",
              "    }\n",
              "\n",
              "    .colab-df-convert {\n",
              "      background-color: #E8F0FE;\n",
              "      border: none;\n",
              "      border-radius: 50%;\n",
              "      cursor: pointer;\n",
              "      display: none;\n",
              "      fill: #1967D2;\n",
              "      height: 32px;\n",
              "      padding: 0 0 0 0;\n",
              "      width: 32px;\n",
              "    }\n",
              "\n",
              "    .colab-df-convert:hover {\n",
              "      background-color: #E2EBFA;\n",
              "      box-shadow: 0px 1px 2px rgba(60, 64, 67, 0.3), 0px 1px 3px 1px rgba(60, 64, 67, 0.15);\n",
              "      fill: #174EA6;\n",
              "    }\n",
              "\n",
              "    [theme=dark] .colab-df-convert {\n",
              "      background-color: #3B4455;\n",
              "      fill: #D2E3FC;\n",
              "    }\n",
              "\n",
              "    [theme=dark] .colab-df-convert:hover {\n",
              "      background-color: #434B5C;\n",
              "      box-shadow: 0px 1px 3px 1px rgba(0, 0, 0, 0.15);\n",
              "      filter: drop-shadow(0px 1px 2px rgba(0, 0, 0, 0.3));\n",
              "      fill: #FFFFFF;\n",
              "    }\n",
              "  </style>\n",
              "\n",
              "      <script>\n",
              "        const buttonEl =\n",
              "          document.querySelector('#df-863a811f-e3d1-4770-bb86-39712621bf6d button.colab-df-convert');\n",
              "        buttonEl.style.display =\n",
              "          google.colab.kernel.accessAllowed ? 'block' : 'none';\n",
              "\n",
              "        async function convertToInteractive(key) {\n",
              "          const element = document.querySelector('#df-863a811f-e3d1-4770-bb86-39712621bf6d');\n",
              "          const dataTable =\n",
              "            await google.colab.kernel.invokeFunction('convertToInteractive',\n",
              "                                                     [key], {});\n",
              "          if (!dataTable) return;\n",
              "\n",
              "          const docLinkHtml = 'Like what you see? Visit the ' +\n",
              "            '<a target=\"_blank\" href=https://colab.research.google.com/notebooks/data_table.ipynb>data table notebook</a>'\n",
              "            + ' to learn more about interactive tables.';\n",
              "          element.innerHTML = '';\n",
              "          dataTable['output_type'] = 'display_data';\n",
              "          await google.colab.output.renderOutput(dataTable, element);\n",
              "          const docLink = document.createElement('div');\n",
              "          docLink.innerHTML = docLinkHtml;\n",
              "          element.appendChild(docLink);\n",
              "        }\n",
              "      </script>\n",
              "    </div>\n",
              "  </div>\n",
              "  "
            ],
            "text/plain": [
              "                diarization error rate  false alarm  missed detection  \\\n",
              "Parliament_10m                    8.91         1.48              6.59   \n",
              "TOTAL                             8.91         1.48              6.59   \n",
              "\n",
              "                confusion  purity  coverage  \n",
              "Parliament_10m       0.84   91.78     91.78  \n",
              "TOTAL                0.84   91.78     91.78  "
            ]
          },
          "execution_count": 33,
          "metadata": {},
          "output_type": "execute_result"
        }
      ],
      "source": [
        "metrics = [DiarizationErrorRate(), DiarizationPurity(), DiarizationCoverage()]\n",
        "eval(metrics, groundtruth, result)"
      ]
    },
    {
      "cell_type": "code",
      "execution_count": null,
      "metadata": {
        "id": "jlRexbABt-pc"
      },
      "outputs": [],
      "source": [
        "# save_rttm(filename=\"ex.rttm\",annotation=result)"
      ]
    },
    {
      "cell_type": "markdown",
      "metadata": {
        "id": "T4u3dRuYY_7q"
      },
      "source": [
        "## With every test dataset\n",
        "https://drive.google.com/drive/folders/1N-hi2sl-zqJjnY_1cHpox2a-2SUO4x8s?usp=sharing"
      ]
    },
    {
      "cell_type": "code",
      "execution_count": null,
      "metadata": {
        "colab": {
          "base_uri": "https://localhost:8080/"
        },
        "id": "xNTyL3rROF4v",
        "outputId": "e37b2a26-8eea-49fd-c977-96322e9b161e"
      },
      "outputs": [
        {
          "data": {
            "text/plain": [
              "[{'audio': 'tests/Parliament_10m/Parliament_10m.wav',\n",
              "  'rttm': 'tests/Parliament_10m/Parliament_10m.rttm',\n",
              "  'uri': 'Parliament_10m'},\n",
              " {'audio': 'tests/Parliament_Part_2/Parliament_Part_2.wav',\n",
              "  'rttm': 'tests/Parliament_Part_2/Parliament_Part_2.rttm',\n",
              "  'uri': 'Parliament_Part_2'},\n",
              " {'audio': 'tests/Suwipa1/Suwipa1.wav',\n",
              "  'rttm': 'tests/Suwipa1/Suwipa1.rttm',\n",
              "  'uri': 'Suwipa1'},\n",
              " {'audio': 'tests/Parliament_1m/Parliament_1m.wav',\n",
              "  'rttm': 'tests/Parliament_1m/Parliament_1m.rttm',\n",
              "  'uri': 'Parliament_1m'},\n",
              " {'audio': 'tests/Parliament_Part_1/Parliament_Part_1.wav',\n",
              "  'rttm': 'tests/Parliament_Part_1/Parliament_Part_1.rttm',\n",
              "  'uri': 'Parliament_Part_1'}]"
            ]
          },
          "execution_count": 7,
          "metadata": {},
          "output_type": "execute_result"
        }
      ],
      "source": [
        "# Query Test File\n",
        "path = \"tests/\"\n",
        "TEST_FILE = []\n",
        "for subpath in os.listdir(path):\n",
        "  dic = {\"uri\": subpath}\n",
        "  for file in os.listdir(path+subpath):\n",
        "    if file.endswith(\".wav\"): dic[\"audio\"] = path+subpath+\"/\"+file\n",
        "    elif file.endswith(\".rttm\"): dic[\"rttm\"] = path+subpath+\"/\"+file\n",
        "  TEST_FILE.append(dic)\n",
        "TEST_FILE"
      ]
    },
    {
      "cell_type": "code",
      "execution_count": null,
      "metadata": {
        "id": "-TrOJB0Yascj"
      },
      "outputs": [],
      "source": [
        "# Load rttm as Annotation\n",
        "results={}\n",
        "groundtruths={}\n",
        "metrics = [DiarizationErrorRate(), DiarizationPurity(), DiarizationCoverage()]\n",
        "\n",
        "for test in TEST_FILE:\n",
        "  print(test[\"uri\"])\n",
        "  result = pipeline(test)\n",
        "  loaded_groundtruth = load_rttm(test[\"rttm\"])\n",
        "  _, groundtruth = loaded_groundtruth.popitem()\n",
        "\n",
        "  # Mapping speaker\n",
        "  mapping = DiarizationErrorRate().optimal_mapping(groundtruth, result)\n",
        "  result = result.rename_labels(mapping=mapping)\n",
        "\n",
        "  groundtruths[test[\"uri\"]] = groundtruth\n",
        "  results[test[\"uri\"]] = result\n",
        "\n",
        "  df_eval = eval(metrics, groundtruth, result)"
      ]
    },
    {
      "cell_type": "code",
      "execution_count": null,
      "metadata": {
        "colab": {
          "base_uri": "https://localhost:8080/",
          "height": 206
        },
        "id": "8oJS0ZdClUL0",
        "outputId": "279a9c74-2097-4b08-83cf-af5980f30da3"
      },
      "outputs": [
        {
          "data": {
            "text/html": [
              "\n",
              "  <div id=\"df-026947df-8603-4d3b-bdc5-f347ebe7dafb\">\n",
              "    <div class=\"colab-df-container\">\n",
              "      <div>\n",
              "<style scoped>\n",
              "    .dataframe tbody tr th:only-of-type {\n",
              "        vertical-align: middle;\n",
              "    }\n",
              "\n",
              "    .dataframe tbody tr th {\n",
              "        vertical-align: top;\n",
              "    }\n",
              "\n",
              "    .dataframe thead th {\n",
              "        text-align: right;\n",
              "    }\n",
              "</style>\n",
              "<table border=\"1\" class=\"dataframe\">\n",
              "  <thead>\n",
              "    <tr style=\"text-align: right;\">\n",
              "      <th></th>\n",
              "      <th>diarization error rate</th>\n",
              "      <th>false alarm</th>\n",
              "      <th>missed detection</th>\n",
              "      <th>confusion</th>\n",
              "      <th>purity</th>\n",
              "      <th>coverage</th>\n",
              "    </tr>\n",
              "  </thead>\n",
              "  <tbody>\n",
              "    <tr>\n",
              "      <th>Parliament_1m</th>\n",
              "      <td>33.44</td>\n",
              "      <td>23.03</td>\n",
              "      <td>5.66</td>\n",
              "      <td>4.76</td>\n",
              "      <td>90.95</td>\n",
              "      <td>95.13</td>\n",
              "    </tr>\n",
              "    <tr>\n",
              "      <th>Parliament_10m</th>\n",
              "      <td>10.71</td>\n",
              "      <td>1.48</td>\n",
              "      <td>6.60</td>\n",
              "      <td>2.63</td>\n",
              "      <td>91.74</td>\n",
              "      <td>90.00</td>\n",
              "    </tr>\n",
              "    <tr>\n",
              "      <th>Parliament_Part_1</th>\n",
              "      <td>7.25</td>\n",
              "      <td>4.96</td>\n",
              "      <td>0.93</td>\n",
              "      <td>1.35</td>\n",
              "      <td>98.11</td>\n",
              "      <td>98.11</td>\n",
              "    </tr>\n",
              "    <tr>\n",
              "      <th>Parliament_Part_2</th>\n",
              "      <td>5.95</td>\n",
              "      <td>2.99</td>\n",
              "      <td>1.03</td>\n",
              "      <td>1.93</td>\n",
              "      <td>98.63</td>\n",
              "      <td>96.92</td>\n",
              "    </tr>\n",
              "    <tr>\n",
              "      <th>Suwipa1</th>\n",
              "      <td>25.40</td>\n",
              "      <td>8.11</td>\n",
              "      <td>3.91</td>\n",
              "      <td>13.38</td>\n",
              "      <td>83.98</td>\n",
              "      <td>100.00</td>\n",
              "    </tr>\n",
              "  </tbody>\n",
              "</table>\n",
              "</div>\n",
              "      <button class=\"colab-df-convert\" onclick=\"convertToInteractive('df-026947df-8603-4d3b-bdc5-f347ebe7dafb')\"\n",
              "              title=\"Convert this dataframe to an interactive table.\"\n",
              "              style=\"display:none;\">\n",
              "        \n",
              "  <svg xmlns=\"http://www.w3.org/2000/svg\" height=\"24px\"viewBox=\"0 0 24 24\"\n",
              "       width=\"24px\">\n",
              "    <path d=\"M0 0h24v24H0V0z\" fill=\"none\"/>\n",
              "    <path d=\"M18.56 5.44l.94 2.06.94-2.06 2.06-.94-2.06-.94-.94-2.06-.94 2.06-2.06.94zm-11 1L8.5 8.5l.94-2.06 2.06-.94-2.06-.94L8.5 2.5l-.94 2.06-2.06.94zm10 10l.94 2.06.94-2.06 2.06-.94-2.06-.94-.94-2.06-.94 2.06-2.06.94z\"/><path d=\"M17.41 7.96l-1.37-1.37c-.4-.4-.92-.59-1.43-.59-.52 0-1.04.2-1.43.59L10.3 9.45l-7.72 7.72c-.78.78-.78 2.05 0 2.83L4 21.41c.39.39.9.59 1.41.59.51 0 1.02-.2 1.41-.59l7.78-7.78 2.81-2.81c.8-.78.8-2.07 0-2.86zM5.41 20L4 18.59l7.72-7.72 1.47 1.35L5.41 20z\"/>\n",
              "  </svg>\n",
              "      </button>\n",
              "      \n",
              "  <style>\n",
              "    .colab-df-container {\n",
              "      display:flex;\n",
              "      flex-wrap:wrap;\n",
              "      gap: 12px;\n",
              "    }\n",
              "\n",
              "    .colab-df-convert {\n",
              "      background-color: #E8F0FE;\n",
              "      border: none;\n",
              "      border-radius: 50%;\n",
              "      cursor: pointer;\n",
              "      display: none;\n",
              "      fill: #1967D2;\n",
              "      height: 32px;\n",
              "      padding: 0 0 0 0;\n",
              "      width: 32px;\n",
              "    }\n",
              "\n",
              "    .colab-df-convert:hover {\n",
              "      background-color: #E2EBFA;\n",
              "      box-shadow: 0px 1px 2px rgba(60, 64, 67, 0.3), 0px 1px 3px 1px rgba(60, 64, 67, 0.15);\n",
              "      fill: #174EA6;\n",
              "    }\n",
              "\n",
              "    [theme=dark] .colab-df-convert {\n",
              "      background-color: #3B4455;\n",
              "      fill: #D2E3FC;\n",
              "    }\n",
              "\n",
              "    [theme=dark] .colab-df-convert:hover {\n",
              "      background-color: #434B5C;\n",
              "      box-shadow: 0px 1px 3px 1px rgba(0, 0, 0, 0.15);\n",
              "      filter: drop-shadow(0px 1px 2px rgba(0, 0, 0, 0.3));\n",
              "      fill: #FFFFFF;\n",
              "    }\n",
              "  </style>\n",
              "\n",
              "      <script>\n",
              "        const buttonEl =\n",
              "          document.querySelector('#df-026947df-8603-4d3b-bdc5-f347ebe7dafb button.colab-df-convert');\n",
              "        buttonEl.style.display =\n",
              "          google.colab.kernel.accessAllowed ? 'block' : 'none';\n",
              "\n",
              "        async function convertToInteractive(key) {\n",
              "          const element = document.querySelector('#df-026947df-8603-4d3b-bdc5-f347ebe7dafb');\n",
              "          const dataTable =\n",
              "            await google.colab.kernel.invokeFunction('convertToInteractive',\n",
              "                                                     [key], {});\n",
              "          if (!dataTable) return;\n",
              "\n",
              "          const docLinkHtml = 'Like what you see? Visit the ' +\n",
              "            '<a target=\"_blank\" href=https://colab.research.google.com/notebooks/data_table.ipynb>data table notebook</a>'\n",
              "            + ' to learn more about interactive tables.';\n",
              "          element.innerHTML = '';\n",
              "          dataTable['output_type'] = 'display_data';\n",
              "          await google.colab.output.renderOutput(dataTable, element);\n",
              "          const docLink = document.createElement('div');\n",
              "          docLink.innerHTML = docLinkHtml;\n",
              "          element.appendChild(docLink);\n",
              "        }\n",
              "      </script>\n",
              "    </div>\n",
              "  </div>\n",
              "  "
            ],
            "text/plain": [
              "                   diarization error rate  false alarm  missed detection  \\\n",
              "Parliament_1m                       33.44        23.03              5.66   \n",
              "Parliament_10m                      10.71         1.48              6.60   \n",
              "Parliament_Part_1                    7.25         4.96              0.93   \n",
              "Parliament_Part_2                    5.95         2.99              1.03   \n",
              "Suwipa1                             25.40         8.11              3.91   \n",
              "\n",
              "                   confusion  purity  coverage  \n",
              "Parliament_1m           4.76   90.95     95.13  \n",
              "Parliament_10m          2.63   91.74     90.00  \n",
              "Parliament_Part_1       1.35   98.11     98.11  \n",
              "Parliament_Part_2       1.93   98.63     96.92  \n",
              "Suwipa1                13.38   83.98    100.00  "
            ]
          },
          "execution_count": 56,
          "metadata": {},
          "output_type": "execute_result"
        }
      ],
      "source": [
        "# Evaluation Metrics 20ep lr=1e-4 batch_size=256\n",
        "sorter = [\"Parliament_1m\",\"Parliament_10m\",'Parliament_Part_1',\"Parliament_Part_2\",\"Suwipa1\"]\n",
        "df_eval.loc[sorter]"
      ]
    },
    {
      "cell_type": "code",
      "execution_count": null,
      "metadata": {
        "colab": {
          "base_uri": "https://localhost:8080/",
          "height": 206
        },
        "id": "1uXPED1_ETMT",
        "outputId": "61687b2b-6092-455d-f7d8-54bd3e5044d0"
      },
      "outputs": [
        {
          "data": {
            "text/html": [
              "\n",
              "  <div id=\"df-e0410011-ce04-494c-a073-1d57a107e618\">\n",
              "    <div class=\"colab-df-container\">\n",
              "      <div>\n",
              "<style scoped>\n",
              "    .dataframe tbody tr th:only-of-type {\n",
              "        vertical-align: middle;\n",
              "    }\n",
              "\n",
              "    .dataframe tbody tr th {\n",
              "        vertical-align: top;\n",
              "    }\n",
              "\n",
              "    .dataframe thead th {\n",
              "        text-align: right;\n",
              "    }\n",
              "</style>\n",
              "<table border=\"1\" class=\"dataframe\">\n",
              "  <thead>\n",
              "    <tr style=\"text-align: right;\">\n",
              "      <th></th>\n",
              "      <th>diarization error rate</th>\n",
              "      <th>false alarm</th>\n",
              "      <th>missed detection</th>\n",
              "      <th>confusion</th>\n",
              "      <th>purity</th>\n",
              "      <th>coverage</th>\n",
              "    </tr>\n",
              "  </thead>\n",
              "  <tbody>\n",
              "    <tr>\n",
              "      <th>Parliament_1m</th>\n",
              "      <td>44.90</td>\n",
              "      <td>19.60</td>\n",
              "      <td>4.63</td>\n",
              "      <td>20.67</td>\n",
              "      <td>75.49</td>\n",
              "      <td>93.67</td>\n",
              "    </tr>\n",
              "    <tr>\n",
              "      <th>Parliament_10m</th>\n",
              "      <td>11.39</td>\n",
              "      <td>0.89</td>\n",
              "      <td>7.91</td>\n",
              "      <td>2.59</td>\n",
              "      <td>91.66</td>\n",
              "      <td>89.94</td>\n",
              "    </tr>\n",
              "    <tr>\n",
              "      <th>Parliament_Part_1</th>\n",
              "      <td>5.42</td>\n",
              "      <td>2.65</td>\n",
              "      <td>1.45</td>\n",
              "      <td>1.32</td>\n",
              "      <td>98.08</td>\n",
              "      <td>98.08</td>\n",
              "    </tr>\n",
              "    <tr>\n",
              "      <th>Parliament_Part_2</th>\n",
              "      <td>5.00</td>\n",
              "      <td>1.37</td>\n",
              "      <td>1.42</td>\n",
              "      <td>2.21</td>\n",
              "      <td>98.62</td>\n",
              "      <td>96.64</td>\n",
              "    </tr>\n",
              "    <tr>\n",
              "      <th>Suwipa1</th>\n",
              "      <td>22.23</td>\n",
              "      <td>4.74</td>\n",
              "      <td>7.02</td>\n",
              "      <td>10.47</td>\n",
              "      <td>86.52</td>\n",
              "      <td>100.00</td>\n",
              "    </tr>\n",
              "  </tbody>\n",
              "</table>\n",
              "</div>\n",
              "      <button class=\"colab-df-convert\" onclick=\"convertToInteractive('df-e0410011-ce04-494c-a073-1d57a107e618')\"\n",
              "              title=\"Convert this dataframe to an interactive table.\"\n",
              "              style=\"display:none;\">\n",
              "        \n",
              "  <svg xmlns=\"http://www.w3.org/2000/svg\" height=\"24px\"viewBox=\"0 0 24 24\"\n",
              "       width=\"24px\">\n",
              "    <path d=\"M0 0h24v24H0V0z\" fill=\"none\"/>\n",
              "    <path d=\"M18.56 5.44l.94 2.06.94-2.06 2.06-.94-2.06-.94-.94-2.06-.94 2.06-2.06.94zm-11 1L8.5 8.5l.94-2.06 2.06-.94-2.06-.94L8.5 2.5l-.94 2.06-2.06.94zm10 10l.94 2.06.94-2.06 2.06-.94-2.06-.94-.94-2.06-.94 2.06-2.06.94z\"/><path d=\"M17.41 7.96l-1.37-1.37c-.4-.4-.92-.59-1.43-.59-.52 0-1.04.2-1.43.59L10.3 9.45l-7.72 7.72c-.78.78-.78 2.05 0 2.83L4 21.41c.39.39.9.59 1.41.59.51 0 1.02-.2 1.41-.59l7.78-7.78 2.81-2.81c.8-.78.8-2.07 0-2.86zM5.41 20L4 18.59l7.72-7.72 1.47 1.35L5.41 20z\"/>\n",
              "  </svg>\n",
              "      </button>\n",
              "      \n",
              "  <style>\n",
              "    .colab-df-container {\n",
              "      display:flex;\n",
              "      flex-wrap:wrap;\n",
              "      gap: 12px;\n",
              "    }\n",
              "\n",
              "    .colab-df-convert {\n",
              "      background-color: #E8F0FE;\n",
              "      border: none;\n",
              "      border-radius: 50%;\n",
              "      cursor: pointer;\n",
              "      display: none;\n",
              "      fill: #1967D2;\n",
              "      height: 32px;\n",
              "      padding: 0 0 0 0;\n",
              "      width: 32px;\n",
              "    }\n",
              "\n",
              "    .colab-df-convert:hover {\n",
              "      background-color: #E2EBFA;\n",
              "      box-shadow: 0px 1px 2px rgba(60, 64, 67, 0.3), 0px 1px 3px 1px rgba(60, 64, 67, 0.15);\n",
              "      fill: #174EA6;\n",
              "    }\n",
              "\n",
              "    [theme=dark] .colab-df-convert {\n",
              "      background-color: #3B4455;\n",
              "      fill: #D2E3FC;\n",
              "    }\n",
              "\n",
              "    [theme=dark] .colab-df-convert:hover {\n",
              "      background-color: #434B5C;\n",
              "      box-shadow: 0px 1px 3px 1px rgba(0, 0, 0, 0.15);\n",
              "      filter: drop-shadow(0px 1px 2px rgba(0, 0, 0, 0.3));\n",
              "      fill: #FFFFFF;\n",
              "    }\n",
              "  </style>\n",
              "\n",
              "      <script>\n",
              "        const buttonEl =\n",
              "          document.querySelector('#df-e0410011-ce04-494c-a073-1d57a107e618 button.colab-df-convert');\n",
              "        buttonEl.style.display =\n",
              "          google.colab.kernel.accessAllowed ? 'block' : 'none';\n",
              "\n",
              "        async function convertToInteractive(key) {\n",
              "          const element = document.querySelector('#df-e0410011-ce04-494c-a073-1d57a107e618');\n",
              "          const dataTable =\n",
              "            await google.colab.kernel.invokeFunction('convertToInteractive',\n",
              "                                                     [key], {});\n",
              "          if (!dataTable) return;\n",
              "\n",
              "          const docLinkHtml = 'Like what you see? Visit the ' +\n",
              "            '<a target=\"_blank\" href=https://colab.research.google.com/notebooks/data_table.ipynb>data table notebook</a>'\n",
              "            + ' to learn more about interactive tables.';\n",
              "          element.innerHTML = '';\n",
              "          dataTable['output_type'] = 'display_data';\n",
              "          await google.colab.output.renderOutput(dataTable, element);\n",
              "          const docLink = document.createElement('div');\n",
              "          docLink.innerHTML = docLinkHtml;\n",
              "          element.appendChild(docLink);\n",
              "        }\n",
              "      </script>\n",
              "    </div>\n",
              "  </div>\n",
              "  "
            ],
            "text/plain": [
              "                   diarization error rate  false alarm  missed detection  \\\n",
              "Parliament_1m                       44.90        19.60              4.63   \n",
              "Parliament_10m                      11.39         0.89              7.91   \n",
              "Parliament_Part_1                    5.42         2.65              1.45   \n",
              "Parliament_Part_2                    5.00         1.37              1.42   \n",
              "Suwipa1                             22.23         4.74              7.02   \n",
              "\n",
              "                   confusion  purity  coverage  \n",
              "Parliament_1m          20.67   75.49     93.67  \n",
              "Parliament_10m          2.59   91.66     89.94  \n",
              "Parliament_Part_1       1.32   98.08     98.08  \n",
              "Parliament_Part_2       2.21   98.62     96.64  \n",
              "Suwipa1                10.47   86.52    100.00  "
            ]
          },
          "execution_count": 10,
          "metadata": {},
          "output_type": "execute_result"
        }
      ],
      "source": [
        "# Evaluation Metrics 10ep lr=1e-4 batch_size=256\n",
        "sorter = [\"Parliament_1m\",\"Parliament_10m\",'Parliament_Part_1',\"Parliament_Part_2\",\"Suwipa1\"]\n",
        "df_eval.loc[sorter]"
      ]
    },
    {
      "cell_type": "code",
      "execution_count": null,
      "metadata": {
        "colab": {
          "base_uri": "https://localhost:8080/",
          "height": 206
        },
        "id": "djvDumREEyvd",
        "outputId": "806df834-b52f-4462-97ce-5cb2474a48dc"
      },
      "outputs": [
        {
          "data": {
            "text/html": [
              "\n",
              "  <div id=\"df-dfbdb1ca-be4f-41fa-b297-89814bed6e0f\">\n",
              "    <div class=\"colab-df-container\">\n",
              "      <div>\n",
              "<style scoped>\n",
              "    .dataframe tbody tr th:only-of-type {\n",
              "        vertical-align: middle;\n",
              "    }\n",
              "\n",
              "    .dataframe tbody tr th {\n",
              "        vertical-align: top;\n",
              "    }\n",
              "\n",
              "    .dataframe thead th {\n",
              "        text-align: right;\n",
              "    }\n",
              "</style>\n",
              "<table border=\"1\" class=\"dataframe\">\n",
              "  <thead>\n",
              "    <tr style=\"text-align: right;\">\n",
              "      <th></th>\n",
              "      <th>diarization error rate</th>\n",
              "      <th>false alarm</th>\n",
              "      <th>missed detection</th>\n",
              "      <th>confusion</th>\n",
              "      <th>purity</th>\n",
              "      <th>coverage</th>\n",
              "    </tr>\n",
              "  </thead>\n",
              "  <tbody>\n",
              "    <tr>\n",
              "      <th>Parliament_1m</th>\n",
              "      <td>49.32</td>\n",
              "      <td>25.89</td>\n",
              "      <td>2.86</td>\n",
              "      <td>20.57</td>\n",
              "      <td>73.10</td>\n",
              "      <td>90.29</td>\n",
              "    </tr>\n",
              "    <tr>\n",
              "      <th>Parliament_10m</th>\n",
              "      <td>9.51</td>\n",
              "      <td>1.72</td>\n",
              "      <td>5.98</td>\n",
              "      <td>1.81</td>\n",
              "      <td>90.38</td>\n",
              "      <td>90.38</td>\n",
              "    </tr>\n",
              "    <tr>\n",
              "      <th>Parliament_Part_1</th>\n",
              "      <td>6.43</td>\n",
              "      <td>4.52</td>\n",
              "      <td>0.54</td>\n",
              "      <td>1.38</td>\n",
              "      <td>98.12</td>\n",
              "      <td>98.12</td>\n",
              "    </tr>\n",
              "    <tr>\n",
              "      <th>Parliament_Part_2</th>\n",
              "      <td>3.53</td>\n",
              "      <td>2.30</td>\n",
              "      <td>0.90</td>\n",
              "      <td>0.33</td>\n",
              "      <td>98.43</td>\n",
              "      <td>98.43</td>\n",
              "    </tr>\n",
              "    <tr>\n",
              "      <th>Suwipa1</th>\n",
              "      <td>30.41</td>\n",
              "      <td>10.24</td>\n",
              "      <td>5.27</td>\n",
              "      <td>14.90</td>\n",
              "      <td>82.44</td>\n",
              "      <td>100.00</td>\n",
              "    </tr>\n",
              "  </tbody>\n",
              "</table>\n",
              "</div>\n",
              "      <button class=\"colab-df-convert\" onclick=\"convertToInteractive('df-dfbdb1ca-be4f-41fa-b297-89814bed6e0f')\"\n",
              "              title=\"Convert this dataframe to an interactive table.\"\n",
              "              style=\"display:none;\">\n",
              "        \n",
              "  <svg xmlns=\"http://www.w3.org/2000/svg\" height=\"24px\"viewBox=\"0 0 24 24\"\n",
              "       width=\"24px\">\n",
              "    <path d=\"M0 0h24v24H0V0z\" fill=\"none\"/>\n",
              "    <path d=\"M18.56 5.44l.94 2.06.94-2.06 2.06-.94-2.06-.94-.94-2.06-.94 2.06-2.06.94zm-11 1L8.5 8.5l.94-2.06 2.06-.94-2.06-.94L8.5 2.5l-.94 2.06-2.06.94zm10 10l.94 2.06.94-2.06 2.06-.94-2.06-.94-.94-2.06-.94 2.06-2.06.94z\"/><path d=\"M17.41 7.96l-1.37-1.37c-.4-.4-.92-.59-1.43-.59-.52 0-1.04.2-1.43.59L10.3 9.45l-7.72 7.72c-.78.78-.78 2.05 0 2.83L4 21.41c.39.39.9.59 1.41.59.51 0 1.02-.2 1.41-.59l7.78-7.78 2.81-2.81c.8-.78.8-2.07 0-2.86zM5.41 20L4 18.59l7.72-7.72 1.47 1.35L5.41 20z\"/>\n",
              "  </svg>\n",
              "      </button>\n",
              "      \n",
              "  <style>\n",
              "    .colab-df-container {\n",
              "      display:flex;\n",
              "      flex-wrap:wrap;\n",
              "      gap: 12px;\n",
              "    }\n",
              "\n",
              "    .colab-df-convert {\n",
              "      background-color: #E8F0FE;\n",
              "      border: none;\n",
              "      border-radius: 50%;\n",
              "      cursor: pointer;\n",
              "      display: none;\n",
              "      fill: #1967D2;\n",
              "      height: 32px;\n",
              "      padding: 0 0 0 0;\n",
              "      width: 32px;\n",
              "    }\n",
              "\n",
              "    .colab-df-convert:hover {\n",
              "      background-color: #E2EBFA;\n",
              "      box-shadow: 0px 1px 2px rgba(60, 64, 67, 0.3), 0px 1px 3px 1px rgba(60, 64, 67, 0.15);\n",
              "      fill: #174EA6;\n",
              "    }\n",
              "\n",
              "    [theme=dark] .colab-df-convert {\n",
              "      background-color: #3B4455;\n",
              "      fill: #D2E3FC;\n",
              "    }\n",
              "\n",
              "    [theme=dark] .colab-df-convert:hover {\n",
              "      background-color: #434B5C;\n",
              "      box-shadow: 0px 1px 3px 1px rgba(0, 0, 0, 0.15);\n",
              "      filter: drop-shadow(0px 1px 2px rgba(0, 0, 0, 0.3));\n",
              "      fill: #FFFFFF;\n",
              "    }\n",
              "  </style>\n",
              "\n",
              "      <script>\n",
              "        const buttonEl =\n",
              "          document.querySelector('#df-dfbdb1ca-be4f-41fa-b297-89814bed6e0f button.colab-df-convert');\n",
              "        buttonEl.style.display =\n",
              "          google.colab.kernel.accessAllowed ? 'block' : 'none';\n",
              "\n",
              "        async function convertToInteractive(key) {\n",
              "          const element = document.querySelector('#df-dfbdb1ca-be4f-41fa-b297-89814bed6e0f');\n",
              "          const dataTable =\n",
              "            await google.colab.kernel.invokeFunction('convertToInteractive',\n",
              "                                                     [key], {});\n",
              "          if (!dataTable) return;\n",
              "\n",
              "          const docLinkHtml = 'Like what you see? Visit the ' +\n",
              "            '<a target=\"_blank\" href=https://colab.research.google.com/notebooks/data_table.ipynb>data table notebook</a>'\n",
              "            + ' to learn more about interactive tables.';\n",
              "          element.innerHTML = '';\n",
              "          dataTable['output_type'] = 'display_data';\n",
              "          await google.colab.output.renderOutput(dataTable, element);\n",
              "          const docLink = document.createElement('div');\n",
              "          docLink.innerHTML = docLinkHtml;\n",
              "          element.appendChild(docLink);\n",
              "        }\n",
              "      </script>\n",
              "    </div>\n",
              "  </div>\n",
              "  "
            ],
            "text/plain": [
              "                   diarization error rate  false alarm  missed detection  \\\n",
              "Parliament_1m                       49.32        25.89              2.86   \n",
              "Parliament_10m                       9.51         1.72              5.98   \n",
              "Parliament_Part_1                    6.43         4.52              0.54   \n",
              "Parliament_Part_2                    3.53         2.30              0.90   \n",
              "Suwipa1                             30.41        10.24              5.27   \n",
              "\n",
              "                   confusion  purity  coverage  \n",
              "Parliament_1m          20.57   73.10     90.29  \n",
              "Parliament_10m          1.81   90.38     90.38  \n",
              "Parliament_Part_1       1.38   98.12     98.12  \n",
              "Parliament_Part_2       0.33   98.43     98.43  \n",
              "Suwipa1                14.90   82.44    100.00  "
            ]
          },
          "execution_count": 70,
          "metadata": {},
          "output_type": "execute_result"
        }
      ],
      "source": [
        "# Evaluation Metrics 10ep thr=4.445\n",
        "sorter = [\"Parliament_1m\",\"Parliament_10m\",'Parliament_Part_1',\"Parliament_Part_2\",\"Suwipa1\"]\n",
        "df_eval.loc[sorter]"
      ]
    },
    {
      "cell_type": "code",
      "execution_count": null,
      "metadata": {
        "colab": {
          "base_uri": "https://localhost:8080/",
          "height": 295
        },
        "id": "HIR8iOywYGdu",
        "outputId": "f88f5b4a-843c-40d0-ded5-dcd03e635523"
      },
      "outputs": [
        {
          "name": "stdout",
          "output_type": "stream",
          "text": [
            "Suwipa1\n"
          ]
        },
        {
          "data": {
            "image/png": "[encoded data removed]",
            "text/plain": [
              "<Figure size 1440x144 with 1 Axes>"
            ]
          },
          "metadata": {
            "needs_background": "light"
          },
          "output_type": "display_data"
        },
        {
          "data": {
            "image/png": "[encoded data removed]",
            "text/plain": [
              "<Figure size 1440x144 with 1 Axes>"
            ]
          },
          "metadata": {
            "needs_background": "light"
          },
          "output_type": "display_data"
        }
      ],
      "source": [
        "# Visualization\n",
        "uri = TEST_FILE[2][\"uri\"]\n",
        "print(uri)\n",
        "notebook.reset()\n",
        "# start=0\n",
        "# notebook.crop = Segment(start, start+60)\n",
        "# start+=60\n",
        "repr_annotation(groundtruths[uri])\n",
        "repr_annotation(results[uri])"
      ]
    },
    {
      "cell_type": "markdown",
      "metadata": {
        "id": "yXoyp5mJj73u"
      },
      "source": [
        "# Tensorboard"
      ]
    },
    {
      "cell_type": "code",
      "execution_count": null,
      "metadata": {
        "colab": {
          "base_uri": "https://localhost:8080/"
        },
        "id": "h-1u6iPGjCS7",
        "outputId": "2db149ea-e81b-44ed-bf4c-ed85a64c596f"
      },
      "outputs": [
        {
          "name": "stdout",
          "output_type": "stream",
          "text": [
            "Archive:  /content/lightning_logs_20ep.zip\n",
            "   creating: lightning_logs/version_0/\n",
            "  inflating: lightning_logs/version_0/events.out.tfevents.1658213091.3c2766ef5449.384.0  \n",
            "   creating: lightning_logs/version_0/checkpoints/\n",
            "  inflating: lightning_logs/version_0/checkpoints/epoch=19-step=6780.ckpt  \n",
            "  inflating: lightning_logs/version_0/hparams.yaml  \n"
          ]
        }
      ],
      "source": [
        "# !unzip \"lightning_logs.zip\""
      ]
    },
    {
      "cell_type": "code",
      "execution_count": null,
      "metadata": {
        "colab": {
          "base_uri": "https://localhost:8080/",
          "height": 34
        },
        "id": "HFnpgecEj92Y",
        "outputId": "a9646981-39b1-4005-b081-c0d832e8f448"
      },
      "outputs": [
        {
          "data": {
            "application/javascript": "(async (port, path, text, element) => {\n    if (!google.colab.kernel.accessAllowed) {\n      return;\n    }\n    element.appendChild(document.createTextNode(''));\n    const url = await google.colab.kernel.proxyPort(port);\n    const anchor = document.createElement('a');\n    anchor.href = new URL(path, url).toString();\n    anchor.target = '_blank';\n    anchor.setAttribute('data-href', url + path);\n    anchor.textContent = text;\n    element.appendChild(anchor);\n  })(6006, \"/\", \"https://localhost:6006/\", window.element)",
            "text/plain": [
              "<IPython.core.display.Javascript object>"
            ]
          },
          "metadata": {},
          "output_type": "display_data"
        }
      ],
      "source": [
        "# # for colab\n",
        "# from google.colab import output\n",
        "# output.serve_kernel_port_as_window(6006)"
      ]
    },
    {
      "cell_type": "code",
      "execution_count": null,
      "metadata": {
        "colab": {
          "base_uri": "https://localhost:8080/"
        },
        "id": "JZeTUOxUj-JD",
        "outputId": "eb788628-756b-4e09-eb32-75536ed6ee19"
      },
      "outputs": [
        {
          "name": "stdout",
          "output_type": "stream",
          "text": [
            "\n",
            "NOTE: Using experimental fast data loading logic. To disable, pass\n",
            "    \"--load_fast=false\" and report issues on GitHub. More details:\n",
            "    https://github.com/tensorflow/tensorboard/issues/4784\n",
            "\n",
            "Serving TensorBoard on localhost; to expose to the network, use a proxy or pass --bind_all\n",
            "TensorBoard 2.8.0 at http://localhost:6006/ (Press CTRL+C to quit)\n"
          ]
        }
      ],
      "source": [
        "!tensorboard --logdir=lightning_logs"
      ]
    },
    {
      "cell_type": "code",
      "execution_count": null,
      "metadata": {
        "id": "DL3108yghGjS"
      },
      "outputs": [],
      "source": [
        "# TODO: edit tensorboard step (using tensorflow v1)\n",
        "# https://stackoverflow.com/questions/54987749/how-to-edit-a-saved-tensorboard-summary/55061404#55061404\n",
        "\n",
        "# import tensorflow as tf\n",
        "# summary_writer = tf.summary.create_file_writer (\"test\")\n",
        "\n",
        "# for event in tf.compat.v1.train.summary_iterator (\"/content/lightning_logs_test/version_1/events.out.tfevents.1658213091.3c2766ef5449.384.0\"):\n",
        "#     if (event.step < 1000000):\n",
        "#         shifted_step = event.step + 1000000\n",
        "#         for value in event.summary.value:\n",
        "#             print(value.tag)\n",
        "#             if (value.HasField('simple_value')):\n",
        "#                 print(value.simple_value)\n",
        "#             break;\n",
        "#                 summary = tf.Summary(value=[\n",
        "#                   tf.Summary.Value(tag='{}'.format(value.tag),simple_value=value.simple_value), \n",
        "#                 ])\n",
        "\n",
        "#         summary_writer.add_summary(summary, shifted_step)\n",
        "#         summary_writer.flush()"
      ]
    }
  ],
  "metadata": {
    "accelerator": "GPU",
    "colab": {
      "collapsed_sections": [
        "n7Ne39H2i8hS",
        "NIhhgdE8c6Qh",
        "az9OH3I1Qx4e",
        "QVctyHQXKm0h",
        "EBi5yi7ftrEj"
      ],
      "name": "Evaluate_Diarization.ipynb",
      "provenance": [],
      "toc_visible": true
    },
    "gpuClass": "standard",
    "kernelspec": {
      "display_name": "Python 3.7.0 64-bit",
      "language": "python",
      "name": "python3"
    },
    "language_info": {
      "codemirror_mode": {
        "name": "ipython",
        "version": 3
      },
      "file_extension": ".py",
      "mimetype": "text/x-python",
      "name": "python",
      "nbconvert_exporter": "python",
      "pygments_lexer": "ipython3",
      "version": "3.7.0"
    },
    "vscode": {
      "interpreter": {
        "hash": "a23257344542c70b70a498512f46db94a3a7f44d371a6893c689768adca66338"
      }
    }
  },
  "nbformat": 4,
  "nbformat_minor": 0
}
